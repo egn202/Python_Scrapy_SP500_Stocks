{
 "cells": [
  {
   "cell_type": "code",
   "execution_count": 1,
   "metadata": {},
   "outputs": [],
   "source": [
    "import pandas as pd\n",
    "import numpy as np"
   ]
  },
  {
   "cell_type": "code",
   "execution_count": 37,
   "metadata": {},
   "outputs": [
    {
     "data": {
      "text/plain": [
       "(503, 12)"
      ]
     },
     "execution_count": 37,
     "metadata": {},
     "output_type": "execute_result"
    }
   ],
   "source": [
    "summary = pd.read_csv('summary.csv', index_col= \"ticker\")\n",
    "df1 = pd.DataFrame(summary)\n",
    "df1.shape"
   ]
  },
  {
   "cell_type": "code",
   "execution_count": 38,
   "metadata": {},
   "outputs": [
    {
     "data": {
      "text/plain": [
       "(505, 8)"
      ]
     },
     "execution_count": 38,
     "metadata": {},
     "output_type": "execute_result"
    }
   ],
   "source": [
    "statistics = pd.read_csv('statistics.csv', index_col = \"ticker\")\n",
    "df2 = pd.DataFrame(statistics)\n",
    "df2.shape"
   ]
  },
  {
   "cell_type": "code",
   "execution_count": 39,
   "metadata": {},
   "outputs": [
    {
     "data": {
      "text/plain": [
       "(504, 32)"
      ]
     },
     "execution_count": 39,
     "metadata": {},
     "output_type": "execute_result"
    }
   ],
   "source": [
    "statistics2 = pd.read_csv('statistics2.csv', index_col = \"ticker\")\n",
    "df3 = pd.DataFrame(statistics2)\n",
    "df3.shape"
   ]
  },
  {
   "cell_type": "code",
   "execution_count": 40,
   "metadata": {},
   "outputs": [
    {
     "data": {
      "text/plain": [
       "(501, 21)"
      ]
     },
     "execution_count": 40,
     "metadata": {},
     "output_type": "execute_result"
    }
   ],
   "source": [
    "profile = pd.read_csv('profile.csv', index_col = \"ticker\")\n",
    "df4 = pd.DataFrame(profile)\n",
    "df4.shape"
   ]
  },
  {
   "cell_type": "code",
   "execution_count": 41,
   "metadata": {},
   "outputs": [
    {
     "data": {
      "text/plain": [
       "(453, 4)"
      ]
     },
     "execution_count": 41,
     "metadata": {},
     "output_type": "execute_result"
    }
   ],
   "source": [
    "sustain = pd.read_csv('sustain.csv', index_col = \"ticker\")\n",
    "df5 = pd.DataFrame(sustain)\n",
    "df5.shape"
   ]
  },
  {
   "cell_type": "code",
   "execution_count": 42,
   "metadata": {},
   "outputs": [
    {
     "data": {
      "text/plain": [
       "(505, 6)"
      ]
     },
     "execution_count": 42,
     "metadata": {},
     "output_type": "execute_result"
    }
   ],
   "source": [
    "wiki = pd.read_csv('wiki.csv', index_col = \"ticker\")\n",
    "df6 = pd.DataFrame(wiki)\n",
    "df6.shape"
   ]
  },
  {
   "cell_type": "code",
   "execution_count": 55,
   "metadata": {},
   "outputs": [
    {
     "data": {
      "text/plain": [
       "(501, 1)"
      ]
     },
     "execution_count": 55,
     "metadata": {},
     "output_type": "execute_result"
    }
   ],
   "source": [
    "yearperf = pd.read_csv('1yperf.csv', index_col = \"ticker\")\n",
    "df7 = pd.DataFrame(yearperf)\n",
    "df7.shape"
   ]
  },
  {
   "cell_type": "code",
   "execution_count": 47,
   "metadata": {},
   "outputs": [],
   "source": [
    "df_univ = pd.merge(df1,df2, how='left', on='ticker')"
   ]
  },
  {
   "cell_type": "code",
   "execution_count": 48,
   "metadata": {},
   "outputs": [],
   "source": [
    "df_univ = df_univ.merge(df3,how='left',on='ticker')"
   ]
  },
  {
   "cell_type": "code",
   "execution_count": 49,
   "metadata": {},
   "outputs": [],
   "source": [
    "df_univ = df_univ.merge(df4,how='left',on='ticker')"
   ]
  },
  {
   "cell_type": "code",
   "execution_count": 50,
   "metadata": {},
   "outputs": [],
   "source": [
    "df_univ = df_univ.merge(df5,how='left',on='ticker')"
   ]
  },
  {
   "cell_type": "code",
   "execution_count": 51,
   "metadata": {},
   "outputs": [],
   "source": [
    "df_univ = df_univ.merge(df6,how='left',on='ticker')"
   ]
  },
  {
   "cell_type": "code",
   "execution_count": 56,
   "metadata": {},
   "outputs": [],
   "source": [
    "df_univ = df_univ.merge(df7,how='left',on='ticker')"
   ]
  },
  {
   "cell_type": "code",
   "execution_count": 57,
   "metadata": {},
   "outputs": [
    {
     "data": {
      "text/html": [
       "<div>\n",
       "<style scoped>\n",
       "    .dataframe tbody tr th:only-of-type {\n",
       "        vertical-align: middle;\n",
       "    }\n",
       "\n",
       "    .dataframe tbody tr th {\n",
       "        vertical-align: top;\n",
       "    }\n",
       "\n",
       "    .dataframe thead th {\n",
       "        text-align: right;\n",
       "    }\n",
       "</style>\n",
       "<table border=\"1\" class=\"dataframe\">\n",
       "  <thead>\n",
       "    <tr style=\"text-align: right;\">\n",
       "      <th></th>\n",
       "      <th>name_x</th>\n",
       "      <th>div_yld</th>\n",
       "      <th>eps_x</th>\n",
       "      <th>pe</th>\n",
       "      <th>1y_est</th>\n",
       "      <th>52wk_low</th>\n",
       "      <th>52wk_high</th>\n",
       "      <th>avg_vol</th>\n",
       "      <th>beta</th>\n",
       "      <th>mktcap</th>\n",
       "      <th>...</th>\n",
       "      <th>esg_score</th>\n",
       "      <th>gov_risk</th>\n",
       "      <th>social_risk</th>\n",
       "      <th>dt_add</th>\n",
       "      <th>founded</th>\n",
       "      <th>hq</th>\n",
       "      <th>name_y</th>\n",
       "      <th>sector_y</th>\n",
       "      <th>sub_industry</th>\n",
       "      <th>1yperf</th>\n",
       "    </tr>\n",
       "    <tr>\n",
       "      <th>ticker</th>\n",
       "      <th></th>\n",
       "      <th></th>\n",
       "      <th></th>\n",
       "      <th></th>\n",
       "      <th></th>\n",
       "      <th></th>\n",
       "      <th></th>\n",
       "      <th></th>\n",
       "      <th></th>\n",
       "      <th></th>\n",
       "      <th></th>\n",
       "      <th></th>\n",
       "      <th></th>\n",
       "      <th></th>\n",
       "      <th></th>\n",
       "      <th></th>\n",
       "      <th></th>\n",
       "      <th></th>\n",
       "      <th></th>\n",
       "      <th></th>\n",
       "      <th></th>\n",
       "    </tr>\n",
       "  </thead>\n",
       "  <tbody>\n",
       "    <tr>\n",
       "      <th>MMM</th>\n",
       "      <td>3M Company</td>\n",
       "      <td>3.27</td>\n",
       "      <td>9.25</td>\n",
       "      <td>19.16</td>\n",
       "      <td>182.93</td>\n",
       "      <td>114.04</td>\n",
       "      <td>187.27</td>\n",
       "      <td>2761219</td>\n",
       "      <td>0.95</td>\n",
       "      <td>102.622</td>\n",
       "      <td>...</td>\n",
       "      <td>35.0</td>\n",
       "      <td>8.4</td>\n",
       "      <td>14.0</td>\n",
       "      <td>8/9/1976</td>\n",
       "      <td>1902</td>\n",
       "      <td>St. Paul, Minnesota</td>\n",
       "      <td>3M Company</td>\n",
       "      <td>Industrials</td>\n",
       "      <td>Industrial Conglomerates</td>\n",
       "      <td>12.47%</td>\n",
       "    </tr>\n",
       "    <tr>\n",
       "      <th>ABT</th>\n",
       "      <td>Abbott Laboratories</td>\n",
       "      <td>1.42</td>\n",
       "      <td>2.50</td>\n",
       "      <td>50.68</td>\n",
       "      <td>134.88</td>\n",
       "      <td>61.61</td>\n",
       "      <td>126.87</td>\n",
       "      <td>4921956</td>\n",
       "      <td>0.73</td>\n",
       "      <td>224.806</td>\n",
       "      <td>...</td>\n",
       "      <td>30.0</td>\n",
       "      <td>10.6</td>\n",
       "      <td>16.2</td>\n",
       "      <td>3/31/1964</td>\n",
       "      <td>1888</td>\n",
       "      <td>North Chicago, Illinois</td>\n",
       "      <td>Abbott Laboratories</td>\n",
       "      <td>Health Care</td>\n",
       "      <td>Health Care Equipment</td>\n",
       "      <td>44.27%</td>\n",
       "    </tr>\n",
       "    <tr>\n",
       "      <th>ABBV</th>\n",
       "      <td>AbbVie Inc.</td>\n",
       "      <td>5.01</td>\n",
       "      <td>2.72</td>\n",
       "      <td>38.14</td>\n",
       "      <td>120.48</td>\n",
       "      <td>62.55</td>\n",
       "      <td>113.41</td>\n",
       "      <td>7642975</td>\n",
       "      <td>0.81</td>\n",
       "      <td>183.168</td>\n",
       "      <td>...</td>\n",
       "      <td>29.0</td>\n",
       "      <td>11.3</td>\n",
       "      <td>17.1</td>\n",
       "      <td>12/31/2012</td>\n",
       "      <td>2013 (1888)</td>\n",
       "      <td>North Chicago, Illinois</td>\n",
       "      <td>AbbVie Inc.</td>\n",
       "      <td>Health Care</td>\n",
       "      <td>Pharmaceuticals</td>\n",
       "      <td>11.57%</td>\n",
       "    </tr>\n",
       "    <tr>\n",
       "      <th>ABMD</th>\n",
       "      <td>Abiomed, Inc.</td>\n",
       "      <td>NaN</td>\n",
       "      <td>4.39</td>\n",
       "      <td>73.61</td>\n",
       "      <td>378.00</td>\n",
       "      <td>119.01</td>\n",
       "      <td>387.40</td>\n",
       "      <td>308061</td>\n",
       "      <td>1.39</td>\n",
       "      <td>14.606</td>\n",
       "      <td>...</td>\n",
       "      <td>NaN</td>\n",
       "      <td>NaN</td>\n",
       "      <td>NaN</td>\n",
       "      <td>5/31/2018</td>\n",
       "      <td>1981</td>\n",
       "      <td>Danvers, Massachusetts</td>\n",
       "      <td>Abiomed</td>\n",
       "      <td>Health Care</td>\n",
       "      <td>Health Care Equipment</td>\n",
       "      <td>94.30%</td>\n",
       "    </tr>\n",
       "    <tr>\n",
       "      <th>ACN</th>\n",
       "      <td>Accenture plc</td>\n",
       "      <td>1.37</td>\n",
       "      <td>8.12</td>\n",
       "      <td>31.88</td>\n",
       "      <td>281.36</td>\n",
       "      <td>137.15</td>\n",
       "      <td>271.18</td>\n",
       "      <td>1895051</td>\n",
       "      <td>1.12</td>\n",
       "      <td>171.584</td>\n",
       "      <td>...</td>\n",
       "      <td>11.0</td>\n",
       "      <td>5.8</td>\n",
       "      <td>5.0</td>\n",
       "      <td>7/6/2011</td>\n",
       "      <td>1989</td>\n",
       "      <td>Dublin, Ireland</td>\n",
       "      <td>Accenture plc</td>\n",
       "      <td>Information Technology</td>\n",
       "      <td>IT Consulting &amp; Other Services</td>\n",
       "      <td>20.45%</td>\n",
       "    </tr>\n",
       "    <tr>\n",
       "      <th>...</th>\n",
       "      <td>...</td>\n",
       "      <td>...</td>\n",
       "      <td>...</td>\n",
       "      <td>...</td>\n",
       "      <td>...</td>\n",
       "      <td>...</td>\n",
       "      <td>...</td>\n",
       "      <td>...</td>\n",
       "      <td>...</td>\n",
       "      <td>...</td>\n",
       "      <td>...</td>\n",
       "      <td>...</td>\n",
       "      <td>...</td>\n",
       "      <td>...</td>\n",
       "      <td>...</td>\n",
       "      <td>...</td>\n",
       "      <td>...</td>\n",
       "      <td>...</td>\n",
       "      <td>...</td>\n",
       "      <td>...</td>\n",
       "      <td>...</td>\n",
       "    </tr>\n",
       "    <tr>\n",
       "      <th>YUM</th>\n",
       "      <td>Yum! Brands, Inc.</td>\n",
       "      <td>1.91</td>\n",
       "      <td>2.94</td>\n",
       "      <td>35.88</td>\n",
       "      <td>112.50</td>\n",
       "      <td>54.95</td>\n",
       "      <td>110.66</td>\n",
       "      <td>1615941</td>\n",
       "      <td>1.05</td>\n",
       "      <td>31.644</td>\n",
       "      <td>...</td>\n",
       "      <td>21.0</td>\n",
       "      <td>4.0</td>\n",
       "      <td>13.0</td>\n",
       "      <td>10/6/1997</td>\n",
       "      <td>1997</td>\n",
       "      <td>Louisville, Kentucky</td>\n",
       "      <td>Yum! Brands Inc</td>\n",
       "      <td>Consumer Discretionary</td>\n",
       "      <td>Restaurants</td>\n",
       "      <td>1.38%</td>\n",
       "    </tr>\n",
       "    <tr>\n",
       "      <th>ZBRA</th>\n",
       "      <td>Zebra Technologies Corporation</td>\n",
       "      <td>NaN</td>\n",
       "      <td>8.76</td>\n",
       "      <td>53.66</td>\n",
       "      <td>425.78</td>\n",
       "      <td>150.06</td>\n",
       "      <td>477.68</td>\n",
       "      <td>357119</td>\n",
       "      <td>1.63</td>\n",
       "      <td>25.063</td>\n",
       "      <td>...</td>\n",
       "      <td>NaN</td>\n",
       "      <td>NaN</td>\n",
       "      <td>NaN</td>\n",
       "      <td>12/23/2019</td>\n",
       "      <td>1969</td>\n",
       "      <td>Lincolnshire, Illinois</td>\n",
       "      <td>Zebra Technologies</td>\n",
       "      <td>Information Technology</td>\n",
       "      <td>Electronic Equipment &amp; Instruments</td>\n",
       "      <td>101.87%</td>\n",
       "    </tr>\n",
       "    <tr>\n",
       "      <th>ZBH</th>\n",
       "      <td>Zimmer Biomet Holdings, Inc.</td>\n",
       "      <td>0.60</td>\n",
       "      <td>-0.67</td>\n",
       "      <td>NaN</td>\n",
       "      <td>178.58</td>\n",
       "      <td>74.37</td>\n",
       "      <td>170.05</td>\n",
       "      <td>1163751</td>\n",
       "      <td>1.35</td>\n",
       "      <td>33.623</td>\n",
       "      <td>...</td>\n",
       "      <td>34.0</td>\n",
       "      <td>10.0</td>\n",
       "      <td>19.0</td>\n",
       "      <td>8/7/2001</td>\n",
       "      <td>1927</td>\n",
       "      <td>Warsaw, Indiana</td>\n",
       "      <td>Zimmer Biomet</td>\n",
       "      <td>Health Care</td>\n",
       "      <td>Health Care Equipment</td>\n",
       "      <td>1.34%</td>\n",
       "    </tr>\n",
       "    <tr>\n",
       "      <th>ZION</th>\n",
       "      <td>Zions Bancorporation, National Association</td>\n",
       "      <td>NaN</td>\n",
       "      <td>3.02</td>\n",
       "      <td>16.20</td>\n",
       "      <td>53.31</td>\n",
       "      <td>23.58</td>\n",
       "      <td>51.22</td>\n",
       "      <td>2001685</td>\n",
       "      <td>1.60</td>\n",
       "      <td>8.026</td>\n",
       "      <td>...</td>\n",
       "      <td>NaN</td>\n",
       "      <td>NaN</td>\n",
       "      <td>NaN</td>\n",
       "      <td>6/22/2001</td>\n",
       "      <td>1873</td>\n",
       "      <td>Salt Lake City, Utah</td>\n",
       "      <td>Zions Bancorp</td>\n",
       "      <td>Financials</td>\n",
       "      <td>Regional Banks</td>\n",
       "      <td>9.96%</td>\n",
       "    </tr>\n",
       "    <tr>\n",
       "      <th>ZTS</th>\n",
       "      <td>Zoetis Inc.</td>\n",
       "      <td>0.61</td>\n",
       "      <td>3.47</td>\n",
       "      <td>47.39</td>\n",
       "      <td>185.00</td>\n",
       "      <td>90.14</td>\n",
       "      <td>176.64</td>\n",
       "      <td>1759987</td>\n",
       "      <td>0.64</td>\n",
       "      <td>78.153</td>\n",
       "      <td>...</td>\n",
       "      <td>24.0</td>\n",
       "      <td>12.0</td>\n",
       "      <td>10.0</td>\n",
       "      <td>6/21/2013</td>\n",
       "      <td>1952</td>\n",
       "      <td>Florham Park, New Jersey</td>\n",
       "      <td>Zoetis</td>\n",
       "      <td>Health Care</td>\n",
       "      <td>Pharmaceuticals</td>\n",
       "      <td>16.05%</td>\n",
       "    </tr>\n",
       "  </tbody>\n",
       "</table>\n",
       "<p>529 rows × 84 columns</p>\n",
       "</div>"
      ],
      "text/plain": [
       "                                             name_x  div_yld  eps_x     pe  \\\n",
       "ticker                                                                       \n",
       "MMM                                     3M Company      3.27   9.25  19.16   \n",
       "ABT                            Abbott Laboratories      1.42   2.50  50.68   \n",
       "ABBV                                   AbbVie Inc.      5.01   2.72  38.14   \n",
       "ABMD                                 Abiomed, Inc.       NaN   4.39  73.61   \n",
       "ACN                                  Accenture plc      1.37   8.12  31.88   \n",
       "...                                             ...      ...    ...    ...   \n",
       "YUM                              Yum! Brands, Inc.      1.91   2.94  35.88   \n",
       "ZBRA                Zebra Technologies Corporation       NaN   8.76  53.66   \n",
       "ZBH                   Zimmer Biomet Holdings, Inc.      0.60  -0.67    NaN   \n",
       "ZION    Zions Bancorporation, National Association       NaN   3.02  16.20   \n",
       "ZTS                                    Zoetis Inc.      0.61   3.47  47.39   \n",
       "\n",
       "        1y_est  52wk_low  52wk_high  avg_vol  beta   mktcap  ...  esg_score  \\\n",
       "ticker                                                       ...              \n",
       "MMM     182.93    114.04     187.27  2761219  0.95  102.622  ...       35.0   \n",
       "ABT     134.88     61.61     126.87  4921956  0.73  224.806  ...       30.0   \n",
       "ABBV    120.48     62.55     113.41  7642975  0.81  183.168  ...       29.0   \n",
       "ABMD    378.00    119.01     387.40   308061  1.39   14.606  ...        NaN   \n",
       "ACN     281.36    137.15     271.18  1895051  1.12  171.584  ...       11.0   \n",
       "...        ...       ...        ...      ...   ...      ...  ...        ...   \n",
       "YUM     112.50     54.95     110.66  1615941  1.05   31.644  ...       21.0   \n",
       "ZBRA    425.78    150.06     477.68   357119  1.63   25.063  ...        NaN   \n",
       "ZBH     178.58     74.37     170.05  1163751  1.35   33.623  ...       34.0   \n",
       "ZION     53.31     23.58      51.22  2001685  1.60    8.026  ...        NaN   \n",
       "ZTS     185.00     90.14     176.64  1759987  0.64   78.153  ...       24.0   \n",
       "\n",
       "        gov_risk social_risk      dt_add      founded  \\\n",
       "ticker                                                  \n",
       "MMM          8.4        14.0    8/9/1976         1902   \n",
       "ABT         10.6        16.2   3/31/1964         1888   \n",
       "ABBV        11.3        17.1  12/31/2012  2013 (1888)   \n",
       "ABMD         NaN         NaN   5/31/2018         1981   \n",
       "ACN          5.8         5.0    7/6/2011         1989   \n",
       "...          ...         ...         ...          ...   \n",
       "YUM          4.0        13.0   10/6/1997         1997   \n",
       "ZBRA         NaN         NaN  12/23/2019         1969   \n",
       "ZBH         10.0        19.0    8/7/2001         1927   \n",
       "ZION         NaN         NaN   6/22/2001         1873   \n",
       "ZTS         12.0        10.0   6/21/2013         1952   \n",
       "\n",
       "                              hq               name_y                sector_y  \\\n",
       "ticker                                                                          \n",
       "MMM          St. Paul, Minnesota           3M Company             Industrials   \n",
       "ABT      North Chicago, Illinois  Abbott Laboratories             Health Care   \n",
       "ABBV     North Chicago, Illinois          AbbVie Inc.             Health Care   \n",
       "ABMD      Danvers, Massachusetts              Abiomed             Health Care   \n",
       "ACN              Dublin, Ireland        Accenture plc  Information Technology   \n",
       "...                          ...                  ...                     ...   \n",
       "YUM         Louisville, Kentucky      Yum! Brands Inc  Consumer Discretionary   \n",
       "ZBRA      Lincolnshire, Illinois   Zebra Technologies  Information Technology   \n",
       "ZBH              Warsaw, Indiana        Zimmer Biomet             Health Care   \n",
       "ZION        Salt Lake City, Utah        Zions Bancorp              Financials   \n",
       "ZTS     Florham Park, New Jersey               Zoetis             Health Care   \n",
       "\n",
       "                              sub_industry   1yperf  \n",
       "ticker                                               \n",
       "MMM               Industrial Conglomerates   12.47%  \n",
       "ABT                  Health Care Equipment   44.27%  \n",
       "ABBV                       Pharmaceuticals   11.57%  \n",
       "ABMD                 Health Care Equipment   94.30%  \n",
       "ACN         IT Consulting & Other Services   20.45%  \n",
       "...                                    ...      ...  \n",
       "YUM                            Restaurants    1.38%  \n",
       "ZBRA    Electronic Equipment & Instruments  101.87%  \n",
       "ZBH                  Health Care Equipment    1.34%  \n",
       "ZION                        Regional Banks    9.96%  \n",
       "ZTS                        Pharmaceuticals   16.05%  \n",
       "\n",
       "[529 rows x 84 columns]"
      ]
     },
     "execution_count": 57,
     "metadata": {},
     "output_type": "execute_result"
    }
   ],
   "source": [
    "df_univ"
   ]
  },
  {
   "cell_type": "code",
   "execution_count": 58,
   "metadata": {},
   "outputs": [],
   "source": [
    "df_univ.to_csv('universe.csv')"
   ]
  }
 ],
 "metadata": {
  "kernelspec": {
   "display_name": "Python 3",
   "language": "python",
   "name": "python3"
  },
  "language_info": {
   "codemirror_mode": {
    "name": "ipython",
    "version": 3
   },
   "file_extension": ".py",
   "mimetype": "text/x-python",
   "name": "python",
   "nbconvert_exporter": "python",
   "pygments_lexer": "ipython3",
   "version": "3.8.5"
  }
 },
 "nbformat": 4,
 "nbformat_minor": 4
}
