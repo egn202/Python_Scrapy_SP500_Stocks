{
 "cells": [
  {
   "cell_type": "code",
   "execution_count": 6,
   "metadata": {},
   "outputs": [],
   "source": [
    "with open('spx_tickers.csv', 'r') as f:\n",
    "    tickers = f.readlines()\n",
    "    tickers = [ticker.strip() for ticker in tickers]"
   ]
  },
  {
   "cell_type": "code",
   "execution_count": 7,
   "metadata": {},
   "outputs": [
    {
     "data": {
      "text/plain": [
       "['MMM', 'ABT', 'ABBV', 'ABMD']"
      ]
     },
     "execution_count": 7,
     "metadata": {},
     "output_type": "execute_result"
    }
   ],
   "source": [
    "tickers"
   ]
  },
  {
   "cell_type": "code",
   "execution_count": 11,
   "metadata": {
    "scrolled": true
   },
   "outputs": [],
   "source": [
    "yhoo_list = [f'https://finance.yahoo.com/quote/{ticker}?p={ticker}' for ticker in tickers]"
   ]
  },
  {
   "cell_type": "code",
   "execution_count": 12,
   "metadata": {},
   "outputs": [
    {
     "data": {
      "text/plain": [
       "['https://finance.yahoo.com/quote/MMM?p=MMM',\n",
       " 'https://finance.yahoo.com/quote/ABT?p=ABT',\n",
       " 'https://finance.yahoo.com/quote/ABBV?p=ABBV',\n",
       " 'https://finance.yahoo.com/quote/ABMD?p=ABMD']"
      ]
     },
     "execution_count": 12,
     "metadata": {},
     "output_type": "execute_result"
    }
   ],
   "source": [
    "yhoo_list"
   ]
  },
  {
   "cell_type": "code",
   "execution_count": null,
   "metadata": {},
   "outputs": [],
   "source": []
  },
  {
   "cell_type": "code",
   "execution_count": null,
   "metadata": {},
   "outputs": [],
   "source": []
  },
  {
   "cell_type": "code",
   "execution_count": null,
   "metadata": {},
   "outputs": [],
   "source": []
  },
  {
   "cell_type": "code",
   "execution_count": null,
   "metadata": {},
   "outputs": [],
   "source": []
  },
  {
   "cell_type": "code",
   "execution_count": 8,
   "metadata": {},
   "outputs": [],
   "source": [
    "num_pages=10"
   ]
  },
  {
   "cell_type": "code",
   "execution_count": 9,
   "metadata": {},
   "outputs": [],
   "source": [
    "url_list = [f'https://www.bestbuy.com/site/all-laptops/pc-laptops/pcmcat247400050000.c?cp={i+1}&id=pcmcat247400050000' for i in range(num_pages)]"
   ]
  },
  {
   "cell_type": "code",
   "execution_count": 10,
   "metadata": {},
   "outputs": [
    {
     "data": {
      "text/plain": [
       "['https://www.bestbuy.com/site/all-laptops/pc-laptops/pcmcat247400050000.c?cp=1&id=pcmcat247400050000',\n",
       " 'https://www.bestbuy.com/site/all-laptops/pc-laptops/pcmcat247400050000.c?cp=2&id=pcmcat247400050000',\n",
       " 'https://www.bestbuy.com/site/all-laptops/pc-laptops/pcmcat247400050000.c?cp=3&id=pcmcat247400050000',\n",
       " 'https://www.bestbuy.com/site/all-laptops/pc-laptops/pcmcat247400050000.c?cp=4&id=pcmcat247400050000',\n",
       " 'https://www.bestbuy.com/site/all-laptops/pc-laptops/pcmcat247400050000.c?cp=5&id=pcmcat247400050000',\n",
       " 'https://www.bestbuy.com/site/all-laptops/pc-laptops/pcmcat247400050000.c?cp=6&id=pcmcat247400050000',\n",
       " 'https://www.bestbuy.com/site/all-laptops/pc-laptops/pcmcat247400050000.c?cp=7&id=pcmcat247400050000',\n",
       " 'https://www.bestbuy.com/site/all-laptops/pc-laptops/pcmcat247400050000.c?cp=8&id=pcmcat247400050000',\n",
       " 'https://www.bestbuy.com/site/all-laptops/pc-laptops/pcmcat247400050000.c?cp=9&id=pcmcat247400050000',\n",
       " 'https://www.bestbuy.com/site/all-laptops/pc-laptops/pcmcat247400050000.c?cp=10&id=pcmcat247400050000']"
      ]
     },
     "execution_count": 10,
     "metadata": {},
     "output_type": "execute_result"
    }
   ],
   "source": [
    "url_list"
   ]
  }
 ],
 "metadata": {
  "kernelspec": {
   "display_name": "Python 3",
   "language": "python",
   "name": "python3"
  },
  "language_info": {
   "codemirror_mode": {
    "name": "ipython",
    "version": 3
   },
   "file_extension": ".py",
   "mimetype": "text/x-python",
   "name": "python",
   "nbconvert_exporter": "python",
   "pygments_lexer": "ipython3",
   "version": "3.8.5"
  }
 },
 "nbformat": 4,
 "nbformat_minor": 4
}
